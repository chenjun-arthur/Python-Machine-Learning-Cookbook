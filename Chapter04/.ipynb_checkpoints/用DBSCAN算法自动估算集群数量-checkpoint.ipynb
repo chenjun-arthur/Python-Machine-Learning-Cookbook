{
 "cells": [
  {
   "cell_type": "markdown",
   "metadata": {},
   "source": [
    "# 1. 导入一些如要用到的程序库"
   ]
  },
  {
   "cell_type": "code",
   "execution_count": 1,
   "metadata": {},
   "outputs": [
    {
     "name": "stderr",
     "output_type": "stream",
     "text": [
      "/home/chenjun/anaconda3/envs/Python_Machine_Learning_Cookbook/lib/python2.7/site-packages/sklearn/cross_validation.py:41: DeprecationWarning: This module was deprecated in version 0.18 in favor of the model_selection module into which all the refactored classes and functions are moved. Also note that the interface of the new CV iterators are different from that of this module. This module will be removed in 0.20.\n",
      "  \"This module will be removed in 0.20.\", DeprecationWarning)\n"
     ]
    }
   ],
   "source": [
    "from itertools import cycle \n",
    "\n",
    "import numpy as np\n",
    "from sklearn.cluster import DBSCAN\n",
    "from sklearn import metrics\n",
    "import matplotlib.pyplot as plt\n",
    "\n",
    "from utilities import load_data"
   ]
  },
  {
   "cell_type": "markdown",
   "metadata": {},
   "source": [
    "# 2. 加载输入数据"
   ]
  },
  {
   "cell_type": "code",
   "execution_count": 2,
   "metadata": {
    "collapsed": true
   },
   "outputs": [],
   "source": [
    "input_file = 'data_perf.txt'\n",
    "X = load_data(input_file)"
   ]
  },
  {
   "cell_type": "markdown",
   "metadata": {},
   "source": [
    "# 3. 初始化变量，定义搜索的参数空间"
   ]
  },
  {
   "cell_type": "code",
   "execution_count": 3,
   "metadata": {
    "collapsed": true
   },
   "outputs": [],
   "source": [
    "eps_grid = np.linspace(0.3, 1.2, num=10)  #epsilon的参数空间定义\n",
    "silhouette_scores = []\n",
    "eps_best = eps_grid[0]\n",
    "silhouette_scores_max = -1\n",
    "model_best = None\n",
    "labels_best = None"
   ]
  },
  {
   "cell_type": "markdown",
   "metadata": {},
   "source": [
    "# 4. 搜索参数空间"
   ]
  },
  {
   "cell_type": "code",
   "execution_count": 4,
   "metadata": {},
   "outputs": [
    {
     "name": "stdout",
     "output_type": "stream",
     "text": [
      "Epsilon: 0.3 --> silhouette score: 0.1287\n",
      "Epsilon: 0.4 --> silhouette score: 0.3594\n",
      "Epsilon: 0.5 --> silhouette score: 0.5134\n",
      "Epsilon: 0.6 --> silhouette score: 0.6165\n",
      "Epsilon: 0.7 --> silhouette score: 0.6322\n",
      "Epsilon: 0.8 --> silhouette score: 0.6366\n",
      "Epsilon: 0.9 --> silhouette score: 0.5142\n",
      "Epsilon: 1.0 --> silhouette score: 0.5629\n",
      "Epsilon: 1.1 --> silhouette score: 0.5629\n",
      "Epsilon: 1.2 --> silhouette score: 0.5629\n"
     ]
    }
   ],
   "source": [
    "for eps in eps_grid:\n",
    "    # 训练DBSCAN聚类模型\n",
    "    model = DBSCAN(eps=eps, min_samples=5).fit(X)\n",
    "    \n",
    "    #提取标记\n",
    "    labels = model.labels_\n",
    "\n",
    "    # 5. 每次迭代，提取性能指标\n",
    "\n",
    "    # 提取性能指标\n",
    "    silhouette_score = round(metrics.silhouette_score(X, labels), 4)\n",
    "    silhouette_scores.append(silhouette_score)\n",
    "\n",
    "    print \"Epsilon:\", eps, \"--> silhouette score:\", silhouette_score\n",
    "    \n",
    "    # 6. 保存指标的最佳得分和对应的epsilon值\n",
    "    if silhouette_score > silhouette_scores_max:\n",
    "        silhouette_scores_max = silhouette_score\n",
    "        eps_best = eps\n",
    "        model_best = model\n",
    "        labels_best = labels"
   ]
  },
  {
   "cell_type": "markdown",
   "metadata": {},
   "source": [
    "# 7. 画出条形图"
   ]
  },
  {
   "cell_type": "code",
   "execution_count": 6,
   "metadata": {},
   "outputs": [
    {
     "data": {
      "image/png": "[encoded data removed]",
      "text/plain": [
       "<matplotlib.figure.Figure at 0x7fb27e272e10>"
      ]
     },
     "metadata": {},
     "output_type": "display_data"
    },
    {
     "name": "stdout",
     "output_type": "stream",
     "text": [
      "\n",
      "Best epsilon = 0.8\n"
     ]
    }
   ],
   "source": [
    "plt.figure()\n",
    "plt.bar(eps_grid, silhouette_scores, width=0.05, color='k', align='center')\n",
    "plt.title('Silhouette score vs epsilon')\n",
    "plt.show()\n",
    "\n",
    "# 打印最优epsilon参数\n",
    "print \"\\nBest epsilon =\", eps_best"
   ]
  },
  {
   "cell_type": "markdown",
   "metadata": {},
   "source": [
    "# 8. 保存最优模型与标签"
   ]
  },
  {
   "cell_type": "code",
   "execution_count": 7,
   "metadata": {
    "collapsed": true
   },
   "outputs": [],
   "source": [
    "model = model_best\n",
    "labels = labels_best"
   ]
  },
  {
   "cell_type": "markdown",
   "metadata": {},
   "source": [
    "# 9. 识别没有分配簇的数据集"
   ]
  },
  {
   "cell_type": "code",
   "execution_count": 8,
   "metadata": {
    "collapsed": true
   },
   "outputs": [],
   "source": [
    "# 检查标签中没有分配簇的数据点\n",
    "offset = 0\n",
    "if -1 in labels:\n",
    "    offset = 1"
   ]
  },
  {
   "cell_type": "markdown",
   "metadata": {},
   "source": [
    "# 10. 提取集群的数量"
   ]
  },
  {
   "cell_type": "code",
   "execution_count": 9,
   "metadata": {},
   "outputs": [
    {
     "name": "stdout",
     "output_type": "stream",
     "text": [
      "\n",
      " Estimated number of clusters = 5\n"
     ]
    }
   ],
   "source": [
    "# 数据中的簇数量\n",
    "num_clusteres = len(set(labels)) - offset\n",
    "\n",
    "print \"\\n Estimated number of clusters =\", num_clusteres"
   ]
  },
  {
   "cell_type": "markdown",
   "metadata": {},
   "source": [
    "# 11. 提取核心样本"
   ]
  },
  {
   "cell_type": "code",
   "execution_count": 13,
   "metadata": {},
   "outputs": [],
   "source": [
    "# 从训练模型中提取核心样本的数据点索引\n",
    "mask_core = np.zeros(labels.shape, dtype = np.bool)\n",
    "mask_core[model.core_sample_indices_] = True"
   ]
  },
  {
   "cell_type": "markdown",
   "metadata": {},
   "source": [
    "# 12. 将Cluster结果可视化，提取唯一的标签集合，然后分配不同的图例"
   ]
  },
  {
   "cell_type": "code",
   "execution_count": null,
   "metadata": {
    "collapsed": true
   },
   "outputs": [],
   "source": []
  },
  {
   "cell_type": "code",
   "execution_count": null,
   "metadata": {
    "collapsed": true
   },
   "outputs": [],
   "source": []
  },
  {
   "cell_type": "code",
   "execution_count": 10,
   "metadata": {},
   "outputs": [
    {
     "data": {
      "text/plain": [
       "1"
      ]
     },
     "execution_count": 10,
     "metadata": {},
     "output_type": "execute_result"
    }
   ],
   "source": [
    "offset"
   ]
  },
  {
   "cell_type": "code",
   "execution_count": null,
   "metadata": {
    "collapsed": true
   },
   "outputs": [],
   "source": []
  }
 ],
 "metadata": {
  "kernelspec": {
   "display_name": "Python 2",
   "language": "python",
   "name": "python2"
  },
  "language_info": {
   "codemirror_mode": {
    "name": "ipython",
    "version": 2
   },
   "file_extension": ".py",
   "mimetype": "text/x-python",
   "name": "python",
   "nbconvert_exporter": "python",
   "pygments_lexer": "ipython2",
   "version": "2.7.13"
  }
 },
 "nbformat": 4,
 "nbformat_minor": 2
}
